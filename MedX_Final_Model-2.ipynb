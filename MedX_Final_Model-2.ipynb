{
  "cells": [
    {
      "cell_type": "code",
      "execution_count": null,
      "metadata": {
        "colab": {
          "base_uri": "https://localhost:8080/"
        },
        "id": "mnor7Eitnoov",
        "outputId": "bd8cffff-3f6a-4383-d1dc-09c1c525e792"
      },
      "outputs": [
        {
          "output_type": "stream",
          "name": "stdout",
          "text": [
            "Requirement already satisfied: kaggle in /usr/local/lib/python3.10/dist-packages (1.6.17)\n",
            "Requirement already satisfied: six>=1.10 in /usr/local/lib/python3.10/dist-packages (from kaggle) (1.16.0)\n",
            "Requirement already satisfied: certifi>=2023.7.22 in /usr/local/lib/python3.10/dist-packages (from kaggle) (2024.7.4)\n",
            "Requirement already satisfied: python-dateutil in /usr/local/lib/python3.10/dist-packages (from kaggle) (2.9.0.post0)\n",
            "Requirement already satisfied: requests in /usr/local/lib/python3.10/dist-packages (from kaggle) (2.32.3)\n",
            "Requirement already satisfied: tqdm in /usr/local/lib/python3.10/dist-packages (from kaggle) (4.66.5)\n",
            "Requirement already satisfied: python-slugify in /usr/local/lib/python3.10/dist-packages (from kaggle) (8.0.4)\n",
            "Requirement already satisfied: urllib3 in /usr/local/lib/python3.10/dist-packages (from kaggle) (2.0.7)\n",
            "Requirement already satisfied: bleach in /usr/local/lib/python3.10/dist-packages (from kaggle) (6.1.0)\n",
            "Requirement already satisfied: webencodings in /usr/local/lib/python3.10/dist-packages (from bleach->kaggle) (0.5.1)\n",
            "Requirement already satisfied: text-unidecode>=1.3 in /usr/local/lib/python3.10/dist-packages (from python-slugify->kaggle) (1.3)\n",
            "Requirement already satisfied: charset-normalizer<4,>=2 in /usr/local/lib/python3.10/dist-packages (from requests->kaggle) (3.3.2)\n",
            "Requirement already satisfied: idna<4,>=2.5 in /usr/local/lib/python3.10/dist-packages (from requests->kaggle) (3.7)\n"
          ]
        }
      ],
      "source": [
        "#Machine Learning Research aimed at better diagnosing lung diseases\n",
        "#Data Used: NIH Chest X-Ray Dataset (Kaggle), Indiana University Chest X-Ray Dataset (Kaggle), Private Dataset from a local hospital\n",
        "\n",
        "#Run with Google Colab Pro- TPU High RAM\n",
        "#Upload Kaggle JSON file before executing code\n",
        "\n",
        "!pip install kaggle"
      ]
    },
    {
      "cell_type": "code",
      "execution_count": null,
      "metadata": {
        "id": "gIyj45zZr-fX"
      },
      "outputs": [],
      "source": [
        "!mkdir ~/.kaggle"
      ]
    },
    {
      "cell_type": "code",
      "execution_count": null,
      "metadata": {
        "id": "Ct6uGet9sgPe"
      },
      "outputs": [],
      "source": [
        "!cp kaggle.json ~/.kaggle/"
      ]
    },
    {
      "cell_type": "code",
      "execution_count": null,
      "metadata": {
        "id": "_fhoGfu7skqF"
      },
      "outputs": [],
      "source": [
        "!chmod 600 ~/.kaggle/kaggle.json"
      ]
    },
    {
      "cell_type": "code",
      "execution_count": null,
      "metadata": {
        "colab": {
          "base_uri": "https://localhost:8080/"
        },
        "id": "4yNKfZzUsmi8",
        "outputId": "d7b64f47-99b4-4dd2-8632-7f9e0e269b79"
      },
      "outputs": [
        {
          "output_type": "stream",
          "name": "stdout",
          "text": [
            "Mounted at /content/drive\n"
          ]
        }
      ],
      "source": [
        "from google.colab import drive\n",
        "drive.mount('/content/drive')"
      ]
    },
    {
      "cell_type": "code",
      "execution_count": null,
      "metadata": {
        "colab": {
          "base_uri": "https://localhost:8080/"
        },
        "id": "SMze5RowsohQ",
        "outputId": "35eacc1d-954d-4d15-98e3-04ae968ce51e"
      },
      "outputs": [
        {
          "output_type": "stream",
          "name": "stdout",
          "text": [
            "mkdir: cannot create directory ‘/root/.kaggle’: File exists\n",
            ".   .bashrc  .config   .jupyter  .keras\t\t.local\t.profile    .wget-hsts\n",
            "..  .cache   .ipython  .kaggle\t .launchpadlib\t.npm\t.tmux.conf\n",
            "-----------\n",
            "cp: cannot stat '/content/drive/MyDrive/kaggle.json': No such file or directory\n",
            "kaggle.json\n"
          ]
        }
      ],
      "source": [
        "!mkdir ~/.kaggle\n",
        "!ls -a ~\n",
        "print('-----------')\n",
        "!cp /content/drive/MyDrive/kaggle.json ~/.kaggle/kaggle.json\n",
        "!ls ~/.kaggle"
      ]
    },
    {
      "cell_type": "code",
      "execution_count": null,
      "metadata": {
        "colab": {
          "base_uri": "https://localhost:8080/"
        },
        "id": "zTi_18thsyNO",
        "outputId": "9065ae8a-d278-46d4-8a40-43590176fab0"
      },
      "outputs": [
        {
          "output_type": "stream",
          "name": "stdout",
          "text": [
            "Dataset URL: https://www.kaggle.com/datasets/nih-chest-xrays/data\n",
            "License(s): CC0-1.0\n",
            "Downloading data.zip to /content\n",
            " 10% 4.12G/42.0G [00:18<02:20, 289MB/s]"
          ]
        }
      ],
      "source": [
        "!kaggle datasets download nih-chest-xrays/data"
      ]
    },
    {
      "cell_type": "code",
      "source": [
        "!kaggle datasets download -d raddar/chest-xrays-indiana-university"
      ],
      "metadata": {
        "id": "N5KIBhMDSaHB"
      },
      "execution_count": null,
      "outputs": []
    },
    {
      "cell_type": "code",
      "execution_count": null,
      "metadata": {
        "id": "PqUtXuBgs0pi"
      },
      "outputs": [],
      "source": [
        "!ls\n",
        "!pwd"
      ]
    },
    {
      "cell_type": "code",
      "execution_count": null,
      "metadata": {
        "id": "dRBSOrNT2iPP"
      },
      "outputs": [],
      "source": [
        "import tensorflow as tf\n",
        "import matplotlib.pyplot as plt\n",
        "import collections\n",
        "import random\n",
        "import numpy as np\n",
        "import os\n",
        "import time\n",
        "import json\n",
        "from PIL import Image"
      ]
    },
    {
      "cell_type": "code",
      "execution_count": null,
      "metadata": {
        "id": "xROn74VcGbjh"
      },
      "outputs": [],
      "source": [
        "print(tf.__version__)\n",
        "print(tf.test.gpu_device_name())\n",
        "\n",
        "tf.random.set_seed(42)\n",
        "np.random.seed(42)"
      ]
    },
    {
      "cell_type": "code",
      "execution_count": null,
      "metadata": {
        "id": "I1rDDcO88Zij"
      },
      "outputs": [],
      "source": [
        "import zipfile\n",
        "def unzip_data(filename):\n",
        "  zip_ref = zipfile.ZipFile(filename, \"r\")\n",
        "  zip_ref.extractall()\n",
        "  zip_ref.close()"
      ]
    },
    {
      "cell_type": "code",
      "execution_count": null,
      "metadata": {
        "id": "6fwnbxPP8dCm"
      },
      "outputs": [],
      "source": [
        "train_dir_features_zipped = \"/content/data.zip\"\n",
        "unzip_data(train_dir_features_zipped)"
      ]
    },
    {
      "cell_type": "code",
      "execution_count": null,
      "metadata": {
        "id": "7PMY83SRvInO"
      },
      "outputs": [],
      "source": [
        "import pandas as pd\n",
        "cls_dataset = pd.read_csv(\"/content/Data_Entry_2017.csv\")\n",
        "cls_dataset.tail()\n"
      ]
    },
    {
      "cell_type": "code",
      "execution_count": null,
      "metadata": {
        "id": "gZ5CBjU2v-qi"
      },
      "outputs": [],
      "source": [
        "os.mkdir(\"x_ray_train\")\n"
      ]
    },
    {
      "cell_type": "code",
      "execution_count": null,
      "metadata": {
        "id": "whbrSV7twSTt"
      },
      "outputs": [],
      "source": [
        "cls_dataset[\"Finding Labels\"].value_counts()[:12]\n"
      ]
    },
    {
      "cell_type": "code",
      "execution_count": null,
      "metadata": {
        "id": "xfuM_JHXwUmA"
      },
      "outputs": [],
      "source": [
        "os.mkdir(\"x_ray_train/No Finding\")\n"
      ]
    },
    {
      "cell_type": "code",
      "execution_count": null,
      "metadata": {
        "id": "deDElnjTwW-o"
      },
      "outputs": [],
      "source": [
        "os.mkdir(\"x_ray_train/Infiltration\")\n",
        "os.mkdir(\"x_ray_train/Atelectasis\")\n",
        "os.mkdir(\"x_ray_train/Effusion\")\n",
        "os.mkdir(\"x_ray_train/Nodule\")\n",
        "os.mkdir(\"x_ray_train/Pneumothorax\")\n",
        "os.mkdir(\"x_ray_train/Mass\")\n",
        "os.mkdir(\"x_ray_train/Effusion|Infiltration\")\n",
        "os.mkdir(\"x_ray_train/Atelectasis|Infiltration\")\n",
        "os.mkdir(\"x_ray_train/Consolidation\")\n",
        "os.mkdir(\"x_ray_train/Atelectasis|Effusion\")\n",
        "os.mkdir(\"x_ray_train/Pleural_Thickening\")"
      ]
    },
    {
      "cell_type": "code",
      "execution_count": null,
      "metadata": {
        "id": "U-IUxOGAwZMR"
      },
      "outputs": [],
      "source": [
        "os.mkdir(\"temp_img\")"
      ]
    },
    {
      "cell_type": "code",
      "execution_count": null,
      "metadata": {
        "id": "sJKm0FGUwbVl"
      },
      "outputs": [],
      "source": [
        "import shutil\n"
      ]
    },
    {
      "cell_type": "code",
      "execution_count": null,
      "metadata": {
        "id": "lM7neIdawdPs"
      },
      "outputs": [],
      "source": [
        "shutil.move(\"/content/images_001/images/00000001_000.png\", \"/content/temp_img\")"
      ]
    },
    {
      "cell_type": "code",
      "execution_count": null,
      "metadata": {
        "id": "ciscQVavwfqe"
      },
      "outputs": [],
      "source": [
        "TEMP_PATH = \"/content/temp_img\"\n",
        "for img in os.listdir(\"/content/images_001/images\"):\n",
        "  move_path = \"/content/images_001/images/\"\n",
        "  move_img_path = move_path + img\n",
        "  shutil.move(move_img_path, TEMP_PATH)"
      ]
    },
    {
      "cell_type": "code",
      "execution_count": null,
      "metadata": {
        "id": "xZ78bfSRwlgR"
      },
      "outputs": [],
      "source": [
        "for img in os.listdir(\"/content/images_002/images\"):\n",
        "  move_path = \"/content/images_002/images/\"\n",
        "  move_img_path = move_path + img\n",
        "  shutil.move(move_img_path, TEMP_PATH)"
      ]
    },
    {
      "cell_type": "code",
      "execution_count": null,
      "metadata": {
        "id": "CDBGFVfSwlz3"
      },
      "outputs": [],
      "source": [
        "for img in os.listdir(\"/content/images_003/images\"):\n",
        "  move_path = \"/content/images_003/images/\"\n",
        "  move_img_path = move_path + img\n",
        "  shutil.move(move_img_path, TEMP_PATH)"
      ]
    },
    {
      "cell_type": "code",
      "execution_count": null,
      "metadata": {
        "id": "TlfEF6CHwnrO"
      },
      "outputs": [],
      "source": [
        "for img in os.listdir(\"/content/images_004/images\"):\n",
        "  move_path = \"/content/images_004/images/\"\n",
        "  move_img_path = move_path + img\n",
        "  shutil.move(move_img_path, TEMP_PATH)"
      ]
    },
    {
      "cell_type": "code",
      "execution_count": null,
      "metadata": {
        "id": "5T-IO88HwqFS"
      },
      "outputs": [],
      "source": [
        "for img in os.listdir(\"/content/images_005/images\"):\n",
        "  move_path = \"/content/images_005/images/\"\n",
        "  move_img_path = move_path + img\n",
        "  shutil.move(move_img_path, TEMP_PATH)"
      ]
    },
    {
      "cell_type": "code",
      "execution_count": null,
      "metadata": {
        "id": "6lIRFOHjwr9u"
      },
      "outputs": [],
      "source": [
        "for img in os.listdir(\"/content/images_006/images\"):\n",
        "  move_path = \"/content/images_006/images/\"\n",
        "  move_img_path = move_path + img\n",
        "  shutil.move(move_img_path, TEMP_PATH)\n"
      ]
    },
    {
      "cell_type": "code",
      "execution_count": null,
      "metadata": {
        "id": "zHQlsqwjwt2o"
      },
      "outputs": [],
      "source": [
        "\n",
        "for img in os.listdir(\"/content/images_007/images\"):\n",
        "  move_path = \"/content/images_007/images/\"\n",
        "  move_img_path = move_path + img\n",
        "  shutil.move(move_img_path, TEMP_PATH)\n"
      ]
    },
    {
      "cell_type": "code",
      "execution_count": null,
      "metadata": {
        "id": "LlCufnmPwvsp"
      },
      "outputs": [],
      "source": [
        "for img in os.listdir(\"/content/images_009/images\"):\n",
        "  move_path = \"/content/images_009/images/\"\n",
        "  move_img_path = move_path + img\n",
        "  shutil.move(move_img_path, TEMP_PATH)"
      ]
    },
    {
      "cell_type": "code",
      "execution_count": null,
      "metadata": {
        "id": "whMUaBOz6O8C"
      },
      "outputs": [],
      "source": [
        "for img in os.listdir(\"/content/images_010/images\"):\n",
        "  move_path = \"/content/images_010/images/\"\n",
        "  move_img_path = move_path + img\n",
        "  shutil.move(move_img_path, TEMP_PATH)"
      ]
    },
    {
      "cell_type": "code",
      "execution_count": null,
      "metadata": {
        "id": "8E2ueDyJ6RCF"
      },
      "outputs": [],
      "source": [
        "for img in os.listdir(\"/content/images_011/images\"):\n",
        "  move_path = \"/content/images_011/images/\"\n",
        "  move_img_path = move_path + img\n",
        "  shutil.move(move_img_path, TEMP_PATH)"
      ]
    },
    {
      "cell_type": "code",
      "execution_count": null,
      "metadata": {
        "id": "MH-M9t9b6TY4"
      },
      "outputs": [],
      "source": [
        "for img in os.listdir(\"/content/images_012/images\"):\n",
        "  move_path = \"/content/images_012/images/\"\n",
        "  move_img_path = move_path + img\n",
        "  shutil.move(move_img_path, TEMP_PATH)"
      ]
    },
    {
      "cell_type": "code",
      "execution_count": null,
      "metadata": {
        "id": "-67OT7kA6VdC"
      },
      "outputs": [],
      "source": [
        "cls_dataset.head()"
      ]
    },
    {
      "cell_type": "code",
      "execution_count": null,
      "metadata": {
        "id": "JSkqnt-G6YS6"
      },
      "outputs": [],
      "source": [
        "cls_images = list(cls_dataset[\"Image Index\"])\n",
        "cls_findings = list(cls_dataset[\"Finding Labels\"])\n",
        "len(cls_images), len(cls_findings)"
      ]
    },
    {
      "cell_type": "code",
      "execution_count": null,
      "metadata": {
        "id": "rt6CkIHs6aaB"
      },
      "outputs": [],
      "source": [
        "class_names = []\n",
        "for dir in os.listdir(\"/content/x_ray_train\"):\n",
        "  dir_name = str(dir)\n",
        "  class_names.append(dir_name)"
      ]
    },
    {
      "cell_type": "code",
      "execution_count": null,
      "metadata": {
        "id": "NBZ8k6Ao6cl7"
      },
      "outputs": [],
      "source": [
        "cls_dataset[cls_dataset[\"Image Index\"] == \"00000005_007.png\"]"
      ]
    },
    {
      "cell_type": "code",
      "execution_count": null,
      "metadata": {
        "id": "95sA6WaT6izy"
      },
      "outputs": [],
      "source": [
        "TRAIN_PATH = \"/content/x_ray_train/\"\n",
        "print(TEMP_PATH)\n",
        "for index, label in enumerate(cls_findings):\n",
        "  if label in class_names:\n",
        "    move_dir = TRAIN_PATH + cls_findings[index]\n",
        "    img_to_move = TEMP_PATH + \"/\" + cls_images[index]\n",
        "    shutil.move(img_to_move, move_dir)"
      ]
    },
    {
      "cell_type": "code",
      "execution_count": null,
      "metadata": {
        "id": "6zr1iM7j6lO-"
      },
      "outputs": [],
      "source": [
        "for dir in os.listdir(TRAIN_PATH):\n",
        "  check_dir = TRAIN_PATH + dir\n",
        "  print(f\"{dir} has {len(os.listdir(check_dir))} images\")"
      ]
    },
    {
      "cell_type": "code",
      "execution_count": null,
      "metadata": {
        "id": "y44a3OwL6nMV"
      },
      "outputs": [],
      "source": [
        "os.mkdir(\"x_ray_test\")"
      ]
    },
    {
      "cell_type": "code",
      "execution_count": null,
      "metadata": {
        "id": "w5UCJPVQ6pcM"
      },
      "outputs": [],
      "source": [
        "os.mkdir(\"x_ray_test/No Finding\")\n",
        "os.mkdir(\"x_ray_test/Infiltration\")\n",
        "os.mkdir(\"x_ray_test/Atelectasis\")\n",
        "os.mkdir(\"x_ray_test/Effusion\")\n",
        "os.mkdir(\"x_ray_test/Nodule\")\n",
        "os.mkdir(\"x_ray_test/Pneumothorax\")\n",
        "os.mkdir(\"x_ray_test/Mass\")\n",
        "os.mkdir(\"x_ray_test/Effusion|Infiltration\")\n",
        "os.mkdir(\"x_ray_test/Atelectasis|Infiltration\")\n",
        "os.mkdir(\"x_ray_test/Consolidation\")\n",
        "os.mkdir(\"x_ray_test/Atelectasis|Effusion\")\n",
        "os.mkdir(\"x_ray_test/Pleural_Thickening\")\n"
      ]
    },
    {
      "cell_type": "code",
      "execution_count": null,
      "metadata": {
        "id": "qBcypQGh6rcg"
      },
      "outputs": [],
      "source": [
        "test_split = {}\n",
        "for dir in os.listdir(TRAIN_PATH):\n",
        "  path = TRAIN_PATH + dir\n",
        "  no_test_samples = int(0.15 * len(os.listdir(path)))\n",
        "  test_split[dir] = no_test_samples"
      ]
    },
    {
      "cell_type": "code",
      "execution_count": null,
      "metadata": {
        "id": "QKhGOpKV6tm9"
      },
      "outputs": [],
      "source": [
        "TEST_PATH =\"/content/x_ray_test/\"\n",
        "for dir in os.listdir(TRAIN_PATH):\n",
        "  path = TRAIN_PATH + dir\n",
        "  ts = test_split[dir]\n",
        "  counter = 0\n",
        "  move_test_path = TEST_PATH + dir\n",
        "  for img in os.listdir(path):\n",
        "    new_path = path + \"/\" + img\n",
        "    if counter <= ts:\n",
        "      shutil.move(new_path, move_test_path)\n",
        "      counter += 1"
      ]
    },
    {
      "cell_type": "code",
      "execution_count": null,
      "metadata": {
        "id": "neihXd4j6v78"
      },
      "outputs": [],
      "source": [
        "for dir in os.listdir(TEST_PATH):\n",
        "  new_path = TEST_PATH + dir\n",
        "  print(len(os.listdir(new_path)))"
      ]
    },
    {
      "cell_type": "code",
      "execution_count": null,
      "metadata": {
        "id": "OBwbpp1M6xys"
      },
      "outputs": [],
      "source": [
        "IMG_SIZE = (299, 299)\n",
        "cls_train_dir = \"/content/x_ray_train\"\n",
        "print(\"Training Images\")\n",
        "train_data = tf.keras.preprocessing.image_dataset_from_directory(directory = cls_train_dir,\n",
        "                                                                 image_size = IMG_SIZE,\n",
        "                                                                 label_mode = \"categorical\",\n",
        "                                                                 color_mode = \"rgb\",\n",
        "                                                                 batch_size = 32)"
      ]
    },
    {
      "cell_type": "code",
      "execution_count": null,
      "metadata": {
        "id": "Q_xOOv1761ZZ"
      },
      "outputs": [],
      "source": [
        "print(\"Testing Images\")\n",
        "cls_test_dir = \"/content/x_ray_test\"\n",
        "test_data = tf.keras.preprocessing.image_dataset_from_directory(directory = cls_test_dir,\n",
        "                                                                 image_size = IMG_SIZE,\n",
        "                                                                 label_mode = \"categorical\",\n",
        "                                                                 color_mode = \"rgb\",\n",
        "                                                                 batch_size = 32)"
      ]
    },
    {
      "cell_type": "code",
      "execution_count": null,
      "metadata": {
        "id": "7mxMQ4WY6__v"
      },
      "outputs": [],
      "source": [
        "train_data"
      ]
    },
    {
      "cell_type": "code",
      "execution_count": null,
      "metadata": {
        "id": "DncbnEOA7CYi"
      },
      "outputs": [],
      "source": [
        "base_model = tf.keras.applications.inception_v3.InceptionV3(include_top=False,\n",
        "                                                weights='imagenet',\n",
        "                                               input_shape = (299, 299, 3))\n"
      ]
    },
    {
      "cell_type": "code",
      "execution_count": null,
      "metadata": {
        "id": "BUKtyB7t7C-I"
      },
      "outputs": [],
      "source": [
        "base_model.trainable = True"
      ]
    },
    {
      "cell_type": "code",
      "execution_count": null,
      "metadata": {
        "id": "rCKl2knS7E4t"
      },
      "outputs": [],
      "source": [
        "model_0 = tf.keras.Sequential(\n",
        "    [\n",
        "     tf.keras.layers.Input(shape = (299, 299, 3), name = \"Input_layer\"),\n",
        "     base_model,\n",
        "     tf.keras.layers.GlobalMaxPool2D(),\n",
        "     tf.keras.layers.Dense(12, activation = \"softmax\")\n",
        "    ]\n",
        ")"
      ]
    },
    {
      "cell_type": "code",
      "execution_count": null,
      "metadata": {
        "id": "kCbxYXGG7HhQ"
      },
      "outputs": [],
      "source": [
        "model_0.compile(\n",
        "    loss = tf.keras.losses.CategoricalCrossentropy(),\n",
        "    optimizer = tf.keras.optimizers.Adam(),\n",
        "    metrics = [\"accuracy\"]\n",
        ")"
      ]
    },
    {
      "cell_type": "code",
      "execution_count": null,
      "metadata": {
        "id": "ZEkNKFA37J1S"
      },
      "outputs": [],
      "source": [
        "model_0.summary()"
      ]
    },
    {
      "cell_type": "code",
      "execution_count": null,
      "metadata": {
        "id": "s4LGZIYb7Lwt"
      },
      "outputs": [],
      "source": [
        "early_stopping = tf.keras.callbacks.EarlyStopping(monitor=\"val_loss\",\n",
        "                                                  patience=3)\n",
        "reduce_lr = tf.keras.callbacks.ReduceLROnPlateau(monitor=\"val_loss\",\n",
        "                                                 factor=0.25,\n",
        "                                                 patience=2,\n",
        "                                                 verbose=1,\n",
        "                                                 min_lr=1e-7)"
      ]
    },
    {
      "cell_type": "code",
      "execution_count": null,
      "metadata": {
        "id": "LqIVxS817TAa"
      },
      "outputs": [],
      "source": [
        "history_0 = model_0.fit(train_data,\n",
        "                        epochs = 1,\n",
        "                        steps_per_epoch = len(train_data),\n",
        "                        validation_data = test_data,\n",
        "                        validation_steps = int(0.25*len(test_data)),\n",
        "                        callbacks = [early_stopping, reduce_lr])"
      ]
    },
    {
      "cell_type": "code",
      "execution_count": null,
      "metadata": {
        "id": "dUrENkhi7WfU"
      },
      "outputs": [],
      "source": [
        "model_0.save(\"/content/drive/MyDrive/model_0_feature_extract\")"
      ]
    },
    {
      "cell_type": "code",
      "execution_count": null,
      "metadata": {
        "id": "7cfLigwq7gCt"
      },
      "outputs": [],
      "source": [
        "loaded_model = tf.keras.models.load_model(\"/content/drive/MyDrive/model_0_feature_extract\")"
      ]
    },
    {
      "cell_type": "code",
      "execution_count": null,
      "metadata": {
        "id": "DXY9aVNa91tE"
      },
      "outputs": [],
      "source": [
        "def make_confusion_matrix(y_true, y_pred, classes=None, figsize=(10, 10), text_size=15, norm=False, savefig=False):\n",
        "\n",
        "\n",
        "  cm = confusion_matrix(y_true, y_pred)\n",
        "  cm_norm = cm.astype(\"float\") / cm.sum(axis=1)[:, np.newaxis]\n",
        "  n_classes = cm.shape[0]\n",
        "\n",
        "\n",
        "  fig, ax = plt.subplots(figsize=figsize)\n",
        "  cax = ax.matshow(cm, cmap=plt.cm.Blues)\n",
        "  fig.colorbar(cax)\n",
        "\n",
        "\n",
        "  if classes:\n",
        "    labels = classes\n",
        "  else:\n",
        "    labels = np.arange(cm.shape[0])\n",
        "\n",
        "\n",
        "  ax.set(title=\"Confusion Matrix\",\n",
        "         xlabel=\"Predicted label\",\n",
        "         ylabel=\"True label\",\n",
        "         xticks=np.arange(n_classes),\n",
        "         yticks=np.arange(n_classes),\n",
        "         xticklabels=labels,\n",
        "         yticklabels=labels)\n",
        "\n",
        "  ax.xaxis.set_label_position(\"bottom\")\n",
        "  ax.xaxis.tick_bottom()\n",
        "\n",
        "  threshold = (cm.max() + cm.min()) / 2.\n",
        "\n",
        "  for i, j in itertools.product(range(cm.shape[0]), range(cm.shape[1])):\n",
        "    if norm:\n",
        "      plt.text(j, i, f\"{cm[i, j]} ({cm_norm[i, j]*100:.1f}%)\",\n",
        "              horizontalalignment=\"center\",\n",
        "              color=\"white\" if cm[i, j] > threshold else \"black\",\n",
        "              size=text_size)\n",
        "    else:\n",
        "      plt.text(j, i, f\"{cm[i, j]}\",\n",
        "              horizontalalignment=\"center\",\n",
        "              color=\"white\" if cm[i, j] > threshold else \"black\",\n",
        "              size=text_size)\n",
        "\n",
        "  if savefig:\n",
        "    fig.savefig(\"confusion_matrix.png\")\n",
        "  plt.show()"
      ]
    },
    {
      "cell_type": "code",
      "execution_count": null,
      "metadata": {
        "id": "HmpIIiJEru1r"
      },
      "outputs": [],
      "source": [
        "train_data, test_data"
      ]
    },
    {
      "cell_type": "code",
      "execution_count": null,
      "metadata": {
        "id": "OYvRZnXr8G0p"
      },
      "outputs": [],
      "source": [
        "preds = loaded_model.predict(test_data)"
      ]
    },
    {
      "cell_type": "code",
      "execution_count": null,
      "metadata": {
        "id": "Q5GjySZJ8KXp"
      },
      "outputs": [],
      "source": [
        "y = preds.argmax(axis = 1)"
      ]
    },
    {
      "cell_type": "code",
      "execution_count": null,
      "metadata": {
        "id": "4hIECpi1r3gy"
      },
      "outputs": [],
      "source": [
        "y"
      ]
    },
    {
      "cell_type": "code",
      "execution_count": null,
      "metadata": {
        "id": "Jxg9elXCr64O"
      },
      "outputs": [],
      "source": [
        "y.shape"
      ]
    },
    {
      "cell_type": "code",
      "execution_count": null,
      "metadata": {
        "id": "V1elMPhC8MM_"
      },
      "outputs": [],
      "source": [
        "y_true = ([8, 8, 8, ..., 8, 8, 8])\n",
        "y_true = np.array(y_true)"
      ]
    },
    {
      "cell_type": "code",
      "execution_count": null,
      "metadata": {
        "id": "Q8J-XdSX8PNI"
      },
      "outputs": [],
      "source": [
        "from tqdm import tqdm\n",
        "true_labels = []\n",
        "for x in tqdm(y_true):\n",
        "  a = np.argmax(x, axis = 0)\n",
        "  true_labels.append(a)"
      ]
    },
    {
      "cell_type": "code",
      "execution_count": null,
      "metadata": {
        "id": "gTZqUN_C8Rg3"
      },
      "outputs": [],
      "source": [
        "y_true = []\n",
        "for x, y in test_data:\n",
        "  y_true.append(y)\n"
      ]
    },
    {
      "cell_type": "code",
      "execution_count": null,
      "metadata": {
        "id": "BO_UH0QS8VgN"
      },
      "outputs": [],
      "source": [
        "y_true = tf.constant(y_true)"
      ]
    },
    {
      "cell_type": "code",
      "execution_count": null,
      "metadata": {
        "id": "hCw4TjIA8ZwM"
      },
      "outputs": [],
      "source": [
        "loaded_model.evaluate(test_data)"
      ]
    },
    {
      "cell_type": "code",
      "execution_count": null,
      "metadata": {
        "id": "m-JTVbZ88Z3Q"
      },
      "outputs": [],
      "source": [
        "base_model = loaded_model.layers[0]"
      ]
    },
    {
      "cell_type": "code",
      "execution_count": null,
      "metadata": {
        "id": "1i7G66358dIh"
      },
      "outputs": [],
      "source": [
        "base_model.summary()"
      ]
    },
    {
      "cell_type": "code",
      "execution_count": null,
      "metadata": {
        "id": "8kX3GJqK8fLK"
      },
      "outputs": [],
      "source": [
        "from tensorflow.keras.utils import plot_model\n",
        "plot_model(base_model)"
      ]
    },
    {
      "cell_type": "code",
      "execution_count": null,
      "metadata": {
        "id": "Mcmy4NRK5ACg"
      },
      "outputs": [],
      "source": [
        "train_file = \"/content/chest-xrays-indiana-university.zip\"\n",
        "unzip_data(train_file)"
      ]
    },
    {
      "cell_type": "code",
      "execution_count": null,
      "metadata": {
        "id": "AVht3d0qhM2Y"
      },
      "outputs": [],
      "source": [
        "def walk_through_dir(dir_path):\n",
        "  for dirpath, dirnames, filenames in os.walk(dir_path):\n",
        "    print(f\"There are {len(dirnames)} directories and {len(filenames)} images in '{dirpath}'.\")"
      ]
    },
    {
      "cell_type": "code",
      "execution_count": null,
      "metadata": {
        "id": "xKWKnSU1hNS9"
      },
      "outputs": [],
      "source": [
        "len(os.listdir(\"/content/images/images_normalized\"))"
      ]
    },
    {
      "cell_type": "code",
      "execution_count": null,
      "metadata": {
        "id": "Of0i0L7vhTxc"
      },
      "outputs": [],
      "source": [
        "df = pd.read_csv(\"/content/indiana_reports.csv\")\n",
        "df.head()"
      ]
    },
    {
      "cell_type": "code",
      "execution_count": null,
      "metadata": {
        "id": "tDsVHU8ShYDt"
      },
      "outputs": [],
      "source": [
        "dff = pd.read_csv(\"/content/indiana_projections.csv\")\n",
        "dff.head()"
      ]
    },
    {
      "cell_type": "code",
      "execution_count": null,
      "metadata": {
        "id": "RUe-1NjfhcPa"
      },
      "outputs": [],
      "source": [
        "dataframe = pd.merge(df, dff, on =['uid'])"
      ]
    },
    {
      "cell_type": "code",
      "execution_count": null,
      "metadata": {
        "id": "6Wez5UDoher2"
      },
      "outputs": [],
      "source": [
        "dataframe[:10]"
      ]
    },
    {
      "cell_type": "code",
      "execution_count": null,
      "metadata": {
        "id": "BvjEH-rThg0_"
      },
      "outputs": [],
      "source": [
        "images = dataframe[\"filename\"].tolist()"
      ]
    },
    {
      "cell_type": "code",
      "execution_count": null,
      "metadata": {
        "id": "VFZABCgIhjr2"
      },
      "outputs": [],
      "source": [
        "try_captions = dataframe[\"Problems\"].tolist() + dataframe[\"indication\"].tolist()"
      ]
    },
    {
      "cell_type": "code",
      "execution_count": null,
      "metadata": {
        "id": "4j4LEMshhnY-"
      },
      "outputs": [],
      "source": [
        "findings = list(dataframe[\"findings\"])\n",
        "indication = list(dataframe[\"indication\"])\n",
        "impression = list(dataframe[\"impression\"])"
      ]
    },
    {
      "cell_type": "code",
      "execution_count": null,
      "metadata": {
        "id": "TjBkZyuShpex"
      },
      "outputs": [],
      "source": [
        "len(findings), len(indication), len(impression)"
      ]
    },
    {
      "cell_type": "code",
      "execution_count": null,
      "metadata": {
        "id": "OO8nMT_lhreo"
      },
      "outputs": [],
      "source": [
        "try_captions = []\n",
        "b = 0\n",
        "for a in range(len(findings)):\n",
        "  captions = str(\" \"+\"startseq \" + \"Indications: \" + str(indication[a]) + \" endseq \" + \"startseq \" + \"Findings: \" + str(findings[a]) + \" endseq \"+\"startseq \" + \"Impressions: \" + str(impression[a]) + \" endseq\" + \" \")\n",
        "  try_captions.append(captions)"
      ]
    },
    {
      "cell_type": "code",
      "execution_count": null,
      "metadata": {
        "id": "GWwGXsxzhtyt"
      },
      "outputs": [],
      "source": [
        "try_captions[:2]"
      ]
    },
    {
      "cell_type": "code",
      "execution_count": null,
      "metadata": {
        "id": "rkdxIvAQiBdY"
      },
      "outputs": [],
      "source": [
        "try_captions[:10]"
      ]
    },
    {
      "cell_type": "code",
      "execution_count": null,
      "metadata": {
        "id": "bqQaCi9EiDal"
      },
      "outputs": [],
      "source": [
        "train_captions = try_captions"
      ]
    },
    {
      "cell_type": "code",
      "execution_count": null,
      "metadata": {
        "id": "F5SMy3sbiFis"
      },
      "outputs": [],
      "source": [
        "train_captions[:5]"
      ]
    },
    {
      "cell_type": "code",
      "execution_count": null,
      "metadata": {
        "id": "CU8d1UtRiHXC"
      },
      "outputs": [],
      "source": [
        "image_paths = []\n",
        "for img in images:\n",
        "  path = \"/content/images/images_normalized/\" + img\n",
        "  image_paths.append(path)"
      ]
    },
    {
      "cell_type": "code",
      "execution_count": null,
      "metadata": {
        "id": "uYtOrnTriJNu"
      },
      "outputs": [],
      "source": [
        "image_paths[:5]"
      ]
    },
    {
      "cell_type": "code",
      "execution_count": null,
      "metadata": {
        "id": "FRPRHQRwiLjn"
      },
      "outputs": [],
      "source": [
        "dataframe.head()"
      ]
    },
    {
      "cell_type": "code",
      "execution_count": null,
      "metadata": {
        "id": "hdY-v5KYiNX5"
      },
      "outputs": [],
      "source": [
        "image_paths[:5]"
      ]
    },
    {
      "cell_type": "code",
      "execution_count": null,
      "metadata": {
        "id": "rQrA3-S2iPkO"
      },
      "outputs": [],
      "source": [
        "train_captions[:5]"
      ]
    },
    {
      "cell_type": "code",
      "execution_count": null,
      "metadata": {
        "id": "v9GBfZe4iSUE"
      },
      "outputs": [],
      "source": [
        "print(train_captions[0])\n",
        "Image.open(image_paths[0])"
      ]
    },
    {
      "cell_type": "code",
      "execution_count": null,
      "metadata": {
        "id": "JHwzqEg4iUNQ"
      },
      "outputs": [],
      "source": [
        "print(train_captions[1])\n",
        "Image.open(image_paths[1])"
      ]
    },
    {
      "cell_type": "code",
      "execution_count": null,
      "metadata": {
        "id": "OllWz5PBiXTD"
      },
      "outputs": [],
      "source": [
        "image_model = base_model"
      ]
    },
    {
      "cell_type": "code",
      "execution_count": null,
      "metadata": {
        "id": "0xXRMMLUiatK"
      },
      "outputs": [],
      "source": [
        "image_model.summary()"
      ]
    },
    {
      "cell_type": "code",
      "execution_count": null,
      "metadata": {
        "id": "MWc83RboicX3"
      },
      "outputs": [],
      "source": [
        "def load_image(image_path):\n",
        "    img = tf.io.read_file(image_path)\n",
        "    img = tf.io.decode_jpeg(img, channels=3)\n",
        "    img = tf.keras.layers.Resizing(299, 299)(img)\n",
        "    img = tf.keras.applications.inception_v3.preprocess_input(img)\n",
        "    return img, image_path"
      ]
    },
    {
      "cell_type": "code",
      "execution_count": null,
      "metadata": {
        "id": "fKoB6k94ihb9"
      },
      "outputs": [],
      "source": [
        "new_input = image_model.input\n",
        "hidden_layer = image_model.layers[-1].output\n",
        "\n",
        "image_features_extract_model = tf.keras.Model(new_input, hidden_layer)"
      ]
    },
    {
      "cell_type": "code",
      "execution_count": null,
      "metadata": {
        "id": "M5LEz4Tsij5f"
      },
      "outputs": [],
      "source": [
        "train_captions[:5], image_paths[:5]"
      ]
    },
    {
      "cell_type": "code",
      "execution_count": null,
      "metadata": {
        "id": "Cu_EZwdQimjP"
      },
      "outputs": [],
      "source": [
        "!pip install tqdm\n",
        "from tqdm import tqdm"
      ]
    },
    {
      "cell_type": "code",
      "execution_count": null,
      "metadata": {
        "id": "O5nhB1k7iqyn"
      },
      "outputs": [],
      "source": [
        "encode_train = sorted(set(image_paths))\n",
        "\n",
        "image_dataset = tf.data.Dataset.from_tensor_slices(encode_train)\n",
        "image_dataset = image_dataset.map(\n",
        "  load_image, num_parallel_calls=tf.data.AUTOTUNE).batch(16)\n",
        "\n",
        "for img, path in tqdm(image_dataset):\n",
        "  batch_features = image_features_extract_model(img)\n",
        "  batch_features = tf.reshape(batch_features,\n",
        "                              (batch_features.shape[0], -1, batch_features.shape[3]))\n",
        "\n",
        "  for bf, p in zip(batch_features, path):\n",
        "    path_of_feature = p.numpy().decode(\"utf-8\")\n",
        "    np.save(path_of_feature, bf.numpy())\n"
      ]
    },
    {
      "cell_type": "code",
      "execution_count": null,
      "metadata": {
        "id": "LXICOk0titgW"
      },
      "outputs": [],
      "source": [
        "caption_dataset = tf.data.Dataset.from_tensor_slices(train_captions)\n",
        "\n",
        "max_length = 100\n",
        "vocabulary_size = 12000\n",
        "tokenizer = tf.keras.layers.TextVectorization(\n",
        "    max_tokens=vocabulary_size,\n",
        "    output_sequence_length=max_length)\n",
        "tokenizer.adapt(caption_dataset)"
      ]
    },
    {
      "cell_type": "code",
      "execution_count": null,
      "metadata": {
        "id": "jdyC0Fw6iwGh"
      },
      "outputs": [],
      "source": [
        "cap_vector = caption_dataset.map(lambda x: tokenizer(x))"
      ]
    },
    {
      "cell_type": "code",
      "execution_count": null,
      "metadata": {
        "id": "TSf9_Hqqiyh_"
      },
      "outputs": [],
      "source": [
        "for vector in cap_vector:\n",
        "  print(vector)\n",
        "  print(vector.shape)\n",
        "  break"
      ]
    },
    {
      "cell_type": "code",
      "execution_count": null,
      "metadata": {
        "id": "6CuqDS8ci0Mh"
      },
      "outputs": [],
      "source": [
        "word_to_index = tf.keras.layers.StringLookup(\n",
        "    mask_token=\"\",\n",
        "    vocabulary=tokenizer.get_vocabulary())\n",
        "index_to_word = tf.keras.layers.StringLookup(\n",
        "    mask_token=\"\",\n",
        "    vocabulary=tokenizer.get_vocabulary(),\n",
        "    invert=True)"
      ]
    },
    {
      "cell_type": "code",
      "execution_count": null,
      "metadata": {
        "id": "WW3FrGAWi2aN"
      },
      "outputs": [],
      "source": [
        "img_to_cap_vector = collections.defaultdict(list)\n",
        "for img, cap in zip(image_paths, cap_vector):\n",
        "  img_to_cap_vector[img].append(cap)\n",
        "\n",
        "img_keys = list(img_to_cap_vector.keys())\n",
        "random.shuffle(img_keys)\n",
        "\n",
        "slice_index = int(len(img_keys)*0.8)\n",
        "img_name_train_keys, img_name_val_keys = img_keys[:slice_index], img_keys[slice_index:]\n",
        "\n",
        "img_name_train = []\n",
        "cap_train = []\n",
        "for imgt in img_name_train_keys:\n",
        "  capt_len = len(img_to_cap_vector[imgt])\n",
        "  img_name_train.extend([imgt] * capt_len)\n",
        "  cap_train.extend(img_to_cap_vector[imgt])\n",
        "\n",
        "img_name_val = []\n",
        "cap_val = []\n",
        "for imgv in img_name_val_keys:\n",
        "  capv_len = len(img_to_cap_vector[imgv])\n",
        "  img_name_val.extend([imgv] * capv_len)\n",
        "  cap_val.extend(img_to_cap_vector[imgv])"
      ]
    },
    {
      "cell_type": "code",
      "execution_count": null,
      "metadata": {
        "id": "t65-uF61i42_"
      },
      "outputs": [],
      "source": [
        "img_name_train[:5], index_to_word(cap_train[:5])"
      ]
    },
    {
      "cell_type": "code",
      "execution_count": null,
      "metadata": {
        "id": "MAcql74Si6uD"
      },
      "outputs": [],
      "source": [
        "len(img_name_train), len(cap_train), len(img_name_val), len(cap_val)"
      ]
    },
    {
      "cell_type": "code",
      "execution_count": null,
      "metadata": {
        "id": "GGRlHFH3i9Kp"
      },
      "outputs": [],
      "source": [
        "checker = dataframe.loc[dataframe[\"filename\"]==\"7_IM-2263-2001.dcm.png\"]"
      ]
    },
    {
      "cell_type": "code",
      "execution_count": null,
      "metadata": {
        "id": "xtm-_LL2i_TY"
      },
      "outputs": [],
      "source": [
        "checker"
      ]
    },
    {
      "cell_type": "code",
      "execution_count": null,
      "metadata": {
        "id": "4n-I4dv7jCF2"
      },
      "outputs": [],
      "source": [
        "len(img_name_train), len(cap_train), len(img_name_val), len(cap_val)"
      ]
    },
    {
      "cell_type": "code",
      "execution_count": null,
      "metadata": {
        "id": "MAtdgWwqjE6D"
      },
      "outputs": [],
      "source": [
        "\n",
        "BATCH_SIZE = 64\n",
        "BUFFER_SIZE = 1000\n",
        "embedding_dim = 512\n",
        "units = 1024\n",
        "num_steps = len(img_name_train) // BATCH_SIZE\n",
        "features_shape = 2560\n",
        "attention_features_shape = 64"
      ]
    },
    {
      "cell_type": "code",
      "execution_count": null,
      "metadata": {
        "id": "Iq8CP5o2jHQ1"
      },
      "outputs": [],
      "source": [
        "def map_func(img_name, cap):\n",
        "  img_tensor = np.load(img_name.decode('utf-8')+'.npy')\n",
        "  return img_tensor, cap"
      ]
    },
    {
      "cell_type": "code",
      "execution_count": null,
      "metadata": {
        "id": "vdS6UxJUjJSx"
      },
      "outputs": [],
      "source": [
        "dataset = tf.data.Dataset.from_tensor_slices((img_name_train, cap_train))\n",
        "\n",
        "dataset = dataset.map(lambda item1, item2: tf.numpy_function(\n",
        "          map_func, [item1, item2], [tf.float32, tf.int64]),\n",
        "          num_parallel_calls=tf.data.AUTOTUNE)\n",
        "\n",
        "dataset = dataset.shuffle(BUFFER_SIZE).batch(BATCH_SIZE)\n",
        "dataset = dataset.prefetch(buffer_size=tf.data.AUTOTUNE)"
      ]
    },
    {
      "cell_type": "code",
      "execution_count": null,
      "metadata": {
        "id": "RtT1FwNkjLar"
      },
      "outputs": [],
      "source": [
        "dataset"
      ]
    },
    {
      "cell_type": "code",
      "execution_count": null,
      "metadata": {
        "id": "ewR6a0yKjNnd"
      },
      "outputs": [],
      "source": [
        "class BahdanauAttention(tf.keras.Model):\n",
        "  def __init__(self, units):\n",
        "    super(BahdanauAttention, self).__init__()\n",
        "    self.W1 = tf.keras.layers.Dense(units)\n",
        "    self.W2 = tf.keras.layers.Dense(units)\n",
        "    self.V = tf.keras.layers.Dense(1)\n",
        "\n",
        "  def call(self, features, hidden):\n",
        "\n",
        "    hidden_with_time_axis = tf.expand_dims(hidden, 1)\n",
        "\n",
        "    attention_hidden_layer = (tf.nn.tanh(self.W1(features) +\n",
        "                                         self.W2(hidden_with_time_axis)))\n",
        "\n",
        "    score = self.V(attention_hidden_layer)\n",
        "\n",
        "    attention_weights = tf.nn.softmax(score, axis=1)\n",
        "\n",
        "    context_vector = attention_weights * features\n",
        "    context_vector = tf.reduce_sum(context_vector, axis=1)\n",
        "\n",
        "    return context_vector, attention_weights"
      ]
    },
    {
      "cell_type": "code",
      "execution_count": null,
      "metadata": {
        "id": "7uA0NIo1jQM4"
      },
      "outputs": [],
      "source": [
        "class CNN_Encoder(tf.keras.Model):\n",
        "    def __init__(self, embedding_dim):\n",
        "        super(CNN_Encoder, self).__init__()\n",
        "        self.fc = tf.keras.layers.Dense(embedding_dim)\n",
        "\n",
        "    def call(self, x):\n",
        "        x = self.fc(x)\n",
        "        x = tf.nn.relu(x)\n",
        "        return x"
      ]
    },
    {
      "cell_type": "code",
      "execution_count": null,
      "metadata": {
        "id": "zY9ll8a3jSMn"
      },
      "outputs": [],
      "source": [
        "class RNN_Decoder(tf.keras.Model):\n",
        "  def __init__(self, embedding_dim, units, vocab_size):\n",
        "    super(RNN_Decoder, self).__init__()\n",
        "    self.units = units\n",
        "\n",
        "    self.embedding = tf.keras.layers.Embedding(vocab_size, embedding_dim)\n",
        "    self.gru = tf.keras.layers.GRU(self.units,\n",
        "                                   return_sequences=True,\n",
        "                                   return_state=True,\n",
        "                                   recurrent_initializer='glorot_uniform')\n",
        "    self.fc1 = tf.keras.layers.Dense(self.units)\n",
        "    self.fc2 = tf.keras.layers.Dense(vocab_size)\n",
        "\n",
        "    self.attention = BahdanauAttention(self.units)\n",
        "\n",
        "  def call(self, x, features, hidden):\n",
        "    context_vector, attention_weights = self.attention(features, hidden)\n",
        "\n",
        "    x = self.embedding(x)\n",
        "\n",
        "    x = tf.concat([tf.expand_dims(context_vector, 1), x], axis=-1)\n",
        "\n",
        "    output, state = self.gru(x)\n",
        "\n",
        "    x = self.fc1(output)\n",
        "\n",
        "    x = tf.reshape(x, (-1, x.shape[2]))\n",
        "\n",
        "    x = self.fc2(x)\n",
        "\n",
        "    return x, state, attention_weights\n",
        "\n",
        "  def reset_state(self, batch_size):\n",
        "    return tf.zeros((batch_size, self.units))"
      ]
    },
    {
      "cell_type": "code",
      "execution_count": null,
      "metadata": {
        "id": "hbqPWX3NjVaK"
      },
      "outputs": [],
      "source": [
        "encoder = CNN_Encoder(embedding_dim)\n",
        "decoder = RNN_Decoder(embedding_dim, units, tokenizer.vocabulary_size())"
      ]
    },
    {
      "cell_type": "code",
      "execution_count": null,
      "metadata": {
        "id": "8FfuPaNOjXv4"
      },
      "outputs": [],
      "source": [
        "optimizer = tf.keras.optimizers.Adam()\n",
        "loss_object = tf.keras.losses.SparseCategoricalCrossentropy(\n",
        "    from_logits=True, reduction='none')\n",
        "\n",
        "\n",
        "def loss_function(real, pred):\n",
        "  mask = tf.math.logical_not(tf.math.equal(real, 0))\n",
        "  loss_ = loss_object(real, pred)\n",
        "\n",
        "  mask = tf.cast(mask, dtype=loss_.dtype)\n",
        "  loss_ *= mask\n",
        "\n",
        "  return tf.reduce_mean(loss_)"
      ]
    },
    {
      "cell_type": "code",
      "execution_count": null,
      "metadata": {
        "id": "TaTCRK4AjaRy"
      },
      "outputs": [],
      "source": [
        "checkpoint_path = \"./checkpoints/train\"\n",
        "ckpt = tf.train.Checkpoint(encoder=encoder,\n",
        "                           decoder=decoder,\n",
        "                           optimizer=optimizer)\n",
        "ckpt_manager = tf.train.CheckpointManager(ckpt, checkpoint_path, max_to_keep=5)"
      ]
    },
    {
      "cell_type": "code",
      "execution_count": null,
      "metadata": {
        "id": "NLU_HvXKjceX"
      },
      "outputs": [],
      "source": [
        "start_epoch = 0\n",
        "if ckpt_manager.latest_checkpoint:\n",
        "  start_epoch = int(ckpt_manager.latest_checkpoint.split('-')[-1])\n",
        "  ckpt.restore(ckpt_manager.latest_checkpoint)"
      ]
    },
    {
      "cell_type": "code",
      "execution_count": null,
      "metadata": {
        "id": "wJ6P49QijfKM"
      },
      "outputs": [],
      "source": [
        "loss_plot = []"
      ]
    },
    {
      "cell_type": "code",
      "execution_count": null,
      "metadata": {
        "id": "U0UL_dASjhxN"
      },
      "outputs": [],
      "source": [
        "@tf.function\n",
        "def train_step(img_tensor, target):\n",
        "  loss = 0\n",
        "\n",
        "  hidden = decoder.reset_state(batch_size=target.shape[0])\n",
        "\n",
        "  dec_input = tf.expand_dims([word_to_index('')] * target.shape[0], 1)\n",
        "\n",
        "  with tf.GradientTape() as tape:\n",
        "      features = encoder(img_tensor)\n",
        "\n",
        "      for i in range(1, target.shape[1]):\n",
        "          predictions, hidden, _ = decoder(dec_input, features, hidden)\n",
        "\n",
        "          loss += loss_function(target[:, i], predictions)\n",
        "\n",
        "          dec_input = tf.expand_dims(target[:, i], 1)\n",
        "\n",
        "  total_loss = (loss / int(target.shape[1]))\n",
        "\n",
        "  trainable_variables = encoder.trainable_variables + decoder.trainable_variables\n",
        "\n",
        "  gradients = tape.gradient(loss, trainable_variables)\n",
        "\n",
        "  optimizer.apply_gradients(zip(gradients, trainable_variables))\n",
        "\n",
        "  return loss, total_loss"
      ]
    },
    {
      "cell_type": "code",
      "execution_count": null,
      "metadata": {
        "id": "rwj-CPSBjkJd"
      },
      "outputs": [],
      "source": [
        "EPOCHS = 20\n",
        "\n",
        "for epoch in range(start_epoch, EPOCHS):\n",
        "    start = time.time()\n",
        "    total_loss = 0\n",
        "\n",
        "    for (batch, (img_tensor, target)) in enumerate(dataset):\n",
        "        batch_loss, t_loss = train_step(img_tensor, target)\n",
        "        total_loss += t_loss\n",
        "\n",
        "        if batch % 100 == 0:\n",
        "            average_batch_loss = batch_loss.numpy()/int(target.shape[1])\n",
        "            print(f'Epoch {epoch+1} Batch {batch} Loss {average_batch_loss:.4f}')\n",
        "    loss_plot.append(total_loss / num_steps)\n",
        "\n",
        "    if epoch % 5 == 0:\n",
        "      ckpt_manager.save()\n",
        "\n",
        "    print(f'Epoch {epoch+1} Loss {total_loss/num_steps:.6f}')\n",
        "    print(f'Time taken for 1 epoch {time.time()-start:.2f} sec\\n')"
      ]
    },
    {
      "cell_type": "code",
      "execution_count": null,
      "metadata": {
        "id": "sHGKckvwjweN"
      },
      "outputs": [],
      "source": [
        "EPOCHS = 20\n",
        "\n",
        "for epoch in range(start_epoch, EPOCHS):\n",
        "    start = time.time()\n",
        "    total_loss = 0\n",
        "\n",
        "    for (batch, (img_tensor, target)) in enumerate(dataset):\n",
        "        batch_loss, t_loss = train_step(img_tensor, target)\n",
        "        total_loss += t_loss\n",
        "\n",
        "        if batch % 100 == 0:\n",
        "            average_batch_loss = batch_loss.numpy()/int(target.shape[1])\n",
        "            print(f'Epoch {epoch+1} Batch {batch} Loss {average_batch_loss:.4f}')\n",
        "    loss_plot.append(total_loss / num_steps)\n",
        "\n",
        "    if epoch % 5 == 0:\n",
        "      ckpt_manager.save()\n",
        "\n",
        "    print(f'Epoch {epoch+1} Loss {total_loss/num_steps:.6f}')\n",
        "    print(f'Time taken for 1 epoch {time.time()-start:.2f} sec\\n')"
      ]
    },
    {
      "cell_type": "code",
      "execution_count": null,
      "metadata": {
        "id": "gtrIOpfijy5q"
      },
      "outputs": [],
      "source": [
        "plt.plot(loss_plot)\n",
        "plt.xlabel('Epochs')\n",
        "plt.ylabel('Loss')\n",
        "plt.title('Loss Plot')\n",
        "plt.show()"
      ]
    },
    {
      "cell_type": "code",
      "execution_count": null,
      "metadata": {
        "id": "IkAbyAYkj1k8"
      },
      "outputs": [],
      "source": [
        "def evaluate(image):\n",
        "    attention_plot = np.zeros((max_length, attention_features_shape))\n",
        "\n",
        "    hidden = decoder.reset_state(batch_size=1)\n",
        "\n",
        "    temp_input = tf.expand_dims(load_image(image)[0], 0)\n",
        "    img_tensor_val = image_features_extract_model(temp_input)\n",
        "    img_tensor_val = tf.reshape(img_tensor_val, (img_tensor_val.shape[0],\n",
        "                                                 -1,\n",
        "                                                 img_tensor_val.shape[3]))\n",
        "\n",
        "    features = encoder(img_tensor_val)\n",
        "\n",
        "    dec_input = tf.expand_dims([word_to_index('')], 0)\n",
        "    result = []\n",
        "\n",
        "    for i in range(max_length):\n",
        "        predictions, hidden, attention_weights = decoder(dec_input,\n",
        "                                                         features,\n",
        "                                                         hidden)\n",
        "\n",
        "        attention_plot[i] = tf.reshape(attention_weights, (-1, )).numpy()\n",
        "\n",
        "        predicted_id = tf.random.categorical(predictions, 1)[0][0].numpy()\n",
        "        predicted_word = tf.compat.as_text(index_to_word(predicted_id).numpy())\n",
        "        result.append(predicted_word)\n",
        "\n",
        "        if predicted_word == '':\n",
        "            return result, attention_plot\n",
        "\n",
        "        dec_input = tf.expand_dims([predicted_id], 0)\n",
        "\n",
        "    attention_plot = attention_plot[:len(result), :]\n",
        "    return result, attention_plot"
      ]
    },
    {
      "cell_type": "code",
      "execution_count": null,
      "metadata": {
        "id": "Y9lRsHq-j4bY"
      },
      "outputs": [],
      "source": [
        "def plot_attention(image, result, attention_plot):\n",
        "    temp_image = np.array(Image.open(image))\n",
        "\n",
        "    fig = plt.figure(figsize=(10, 10))\n",
        "\n",
        "    len_result = len(result)\n",
        "    for i in range(len_result):\n",
        "        temp_att = np.resize(attention_plot[i], (8, 8))\n",
        "        grid_size = max(int(np.ceil(len_result/2)), 2)\n",
        "        ax = fig.add_subplot(grid_size, grid_size, i+1)\n",
        "        ax.set_title(result[i])\n",
        "        img = ax.imshow(temp_image)\n",
        "        ax.imshow(temp_att, cmap='gray', alpha=0.6, extent=img.get_extent())\n",
        "\n",
        "    plt.tight_layout()\n",
        "    plt.show()\n"
      ]
    },
    {
      "cell_type": "code",
      "execution_count": null,
      "metadata": {
        "id": "o0m5Adulj6Y5"
      },
      "outputs": [],
      "source": [
        "rid = np.random.randint(0, len(img_name_val))\n",
        "image = img_name_val[rid]\n",
        "real_caption = ' '.join([tf.compat.as_text(index_to_word(i).numpy())\n",
        "                         for i in cap_val[rid] if i not in [0]])\n",
        "result, attention_plot = evaluate(image)\n",
        "\n",
        "print('Real Caption:', real_caption)\n",
        "print('Prediction Caption:', ' '.join(result))\n",
        "plot_attention(image, result, attention_plot)"
      ]
    },
    {
      "cell_type": "code",
      "execution_count": null,
      "metadata": {
        "id": "kkLPzJRsj9Vw"
      },
      "outputs": [],
      "source": [
        "real_captions = []\n",
        "predicted_captions = []\n",
        "for i in range(25):\n",
        "  rid = np.random.randint(0, len(img_name_val))\n",
        "  image = img_name_val[rid]\n",
        "  real_caption = ' '.join([tf.compat.as_text(index_to_word(i).numpy())\n",
        "                         for i in cap_val[rid] if i not in [0]])\n",
        "  result, attention_plot = evaluate(image)\n",
        "  pred_cap = ' '.join(result)\n",
        "  print('Real Caption:', real_caption)\n",
        "  real_captions.append(real_caption)\n",
        "  print('Prediction Caption:', ' '.join(result))\n",
        "  predicted_captions.append(pred_cap)\n",
        "  img = plt.imread(image)\n",
        "  plt.figure()\n",
        "  plt.imshow(img, cmap = \"gray\")\n",
        "  plt.axis(False)"
      ]
    },
    {
      "cell_type": "code",
      "execution_count": null,
      "metadata": {
        "id": "Enq4EMAFj_5F"
      },
      "outputs": [],
      "source": [
        "!pip install aspose-words"
      ]
    },
    {
      "cell_type": "code",
      "execution_count": null,
      "metadata": {
        "id": "DnawLtpFkEhl"
      },
      "outputs": [],
      "source": [
        "import aspose.words as aw"
      ]
    },
    {
      "cell_type": "code",
      "execution_count": null,
      "metadata": {
        "id": "wV8QS6etkHIH"
      },
      "outputs": [],
      "source": [
        "doc = aw.Document()\n",
        "builder = aw.DocumentBuilder(doc)"
      ]
    },
    {
      "cell_type": "code",
      "execution_count": null,
      "metadata": {
        "id": "Ax2AMhGHkJAb"
      },
      "outputs": [],
      "source": [
        "real_captions[:2], predicted_captions[:2]"
      ]
    },
    {
      "cell_type": "markdown",
      "source": [
        "**Disease Pinpointing Data Preparation**"
      ],
      "metadata": {
        "id": "XdgRg0i_0KrB"
      }
    },
    {
      "cell_type": "code",
      "source": [
        "from PIL import Image, ImageDraw, ImageChops"
      ],
      "metadata": {
        "id": "o73DRtok0BCJ"
      },
      "execution_count": null,
      "outputs": []
    },
    {
      "cell_type": "code",
      "source": [
        "bounding_boxes=pd.read_csv('/content/BBox_List_2017.csv')\n",
        "bounding_boxes.head()"
      ],
      "metadata": {
        "id": "BninXvCj0YBL"
      },
      "execution_count": null,
      "outputs": []
    },
    {
      "cell_type": "code",
      "source": [
        "bbox_image=list(bounding_boxes[\"Image Index\"])\n",
        "bbox_label=list(bounding_boxes[\"Finding Label\"])\n",
        "bbox_x=list(bounding_boxes[\"Bbox [x\"])\n",
        "bbox_y=list(bounding_boxes[\"y\"])\n",
        "bbox_width=list(bounding_boxes[\"w\"])\n",
        "bbox_height=list(bounding_boxes[\"h]\"])"
      ],
      "metadata": {
        "id": "L51S4cTY0ZRV"
      },
      "execution_count": null,
      "outputs": []
    },
    {
      "cell_type": "code",
      "source": [
        "print(len(bbox_image))"
      ],
      "metadata": {
        "id": "TwRrDYvc0arB"
      },
      "execution_count": null,
      "outputs": []
    },
    {
      "cell_type": "code",
      "source": [
        "os.mkdir(\"masks_train\")\n",
        "os.mkdir(\"/content/masks_train/infected\")\n",
        "\n",
        "MASKS_TRAIN_PATH=\"/content/masks_train\"\n",
        "\n",
        "os.mkdir(\"unet_images_train\")\n",
        "os.mkdir(\"/content/unet_images_train/infected\")\n",
        "\n",
        "UNET_IMAGES_TRAIN_PATH=\"/content/unet_images_train\""
      ],
      "metadata": {
        "id": "HMe98W0U0cMT"
      },
      "execution_count": null,
      "outputs": []
    },
    {
      "cell_type": "code",
      "source": [
        "for class_name in class_names:\n",
        "  PATH=\"/content/x_ray_train\" + \"/\" + class_name\n",
        "  image_list=list(os.listdir(PATH))\n",
        "  for image_index in image_list:\n",
        "    NEW_PATH=PATH+\"/\"+image_index\n",
        "    shutil.move(NEW_PATH, TEMP_PATH)"
      ],
      "metadata": {
        "id": "ec1nZUm20eGX"
      },
      "execution_count": null,
      "outputs": []
    },
    {
      "cell_type": "code",
      "source": [
        "for class_name in class_names:\n",
        "  PATH=\"/content/x_ray_test\" + \"/\" + class_name\n",
        "  image_list=list(os.listdir(PATH))\n",
        "  for image_index in image_list:\n",
        "    NEW_PATH=PATH+\"/\"+image_index\n",
        "    shutil.move(NEW_PATH, TEMP_PATH)"
      ],
      "metadata": {
        "id": "hN84D96r0fap"
      },
      "execution_count": null,
      "outputs": []
    },
    {
      "cell_type": "code",
      "source": [
        "image_list=list(os.listdir(TEMP_PATH))\n",
        "\n",
        "for image in image_list:\n",
        "  if image in bbox_image:\n",
        "    occurrences = [i for i, x in enumerate(bbox_image) if x == image]\n",
        "    num_masks = len(occurrences)\n",
        "    CURR_PATH = \"/content/temp_img\" + \"/\" + image\n",
        "\n",
        "    mask_channels = []\n",
        "    XRAY = Image.open(CURR_PATH).convert('L')\n",
        "\n",
        "    for index in occurrences:\n",
        "      mask = Image.new('L', XRAY.size, 0)\n",
        "\n",
        "      x, y, width, height = bbox_x[index], bbox_y[index], bbox_width[index], bbox_height[index]\n",
        "      draw = ImageDraw.Draw(mask)\n",
        "      draw.rectangle((x, y, x + width, y + height), fill=255)\n",
        "\n",
        "      mask_channels.append(mask)\n",
        "\n",
        "\n",
        "    output_array = np.zeros(XRAY.size[::-1], dtype=np.uint8)\n",
        "\n",
        "    for mask in mask_channels:\n",
        "      mask_np=np.array(mask)\n",
        "      output_array+=mask_np\n",
        "\n",
        "    output_array=np.where(output_array > 0, 255, 0).astype(np.uint8)\n",
        "    final_mask=Image.fromarray(output_array).convert('L')\n",
        "\n",
        "    NEW_PATH = \"/content/masks_train/infected\" + \"/\" + image\n",
        "    final_mask.save(NEW_PATH)\n",
        "    shutil.move(CURR_PATH, \"/content/unet_images_train/infected\")\n",
        "\n"
      ],
      "metadata": {
        "id": "8qtAN--P0gxv"
      },
      "execution_count": null,
      "outputs": []
    },
    {
      "cell_type": "code",
      "source": [
        "print(len(os.listdir(\"/content/masks_train/infected\")))\n",
        "print(\"--------------------------------\")\n",
        "print(len(os.listdir(\"/content/unet_images_train/infected\")))\n"
      ],
      "metadata": {
        "id": "JQTpQ0kl0rtc"
      },
      "execution_count": null,
      "outputs": []
    }
  ],
  "metadata": {
    "accelerator": "TPU",
    "colab": {
      "provenance": [],
      "gpuType": "V28"
    },
    "kernelspec": {
      "display_name": "Python 3",
      "name": "python3"
    },
    "language_info": {
      "name": "python"
    }
  },
  "nbformat": 4,
  "nbformat_minor": 0
}